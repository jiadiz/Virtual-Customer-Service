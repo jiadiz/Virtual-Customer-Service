{
 "cells": [
  {
   "cell_type": "code",
   "execution_count": 3,
   "id": "b14ae025",
   "metadata": {},
   "outputs": [],
   "source": [
    "import pandas as pd"
   ]
  },
  {
   "cell_type": "code",
   "execution_count": 4,
   "id": "9d4d1caf",
   "metadata": {},
   "outputs": [],
   "source": [
    "df = pd.read_csv('performance_data.csv', encoding='ISO-8859-1')"
   ]
  },
  {
   "cell_type": "code",
   "execution_count": 5,
   "id": "fdc8fa31",
   "metadata": {},
   "outputs": [],
   "source": [
    "prompt_type = df.groupby('Conversation ID')['prompt type'].unique()"
   ]
  },
  {
   "cell_type": "code",
   "execution_count": 6,
   "id": "6a1304a3",
   "metadata": {},
   "outputs": [],
   "source": [
    "types = []\n",
    "\n",
    "for i in prompt_type:\n",
    "    types.append(list(i))\n",
    "    \n",
    "nested_list = types"
   ]
  },
  {
   "cell_type": "code",
   "execution_count": 7,
   "id": "011dd267",
   "metadata": {},
   "outputs": [],
   "source": [
    "flattened_list = [item for sublist in nested_list for item in sublist if item is not None]"
   ]
  },
  {
   "cell_type": "code",
   "execution_count": 8,
   "id": "781ed97b",
   "metadata": {},
   "outputs": [],
   "source": [
    "unique_questions= df.drop_duplicates(subset=['Conversation ID', 'prompt type'])"
   ]
  },
  {
   "cell_type": "code",
   "execution_count": 15,
   "id": "764b61ab",
   "metadata": {},
   "outputs": [],
   "source": [
    "unique_questions = pd.read_csv('unique_questions.csv')"
   ]
  },
  {
   "cell_type": "code",
   "execution_count": 62,
   "id": "fcebeba3",
   "metadata": {},
   "outputs": [],
   "source": [
    "import dash\n",
    "import dash_core_components as dcc\n",
    "import dash_html_components as html\n",
    "from dash.dependencies import Input, Output\n",
    "import plotly.express as px\n",
    "\n",
    "\n",
    "counts = unique_questions.groupby('prompt type').agg(count=('prompt type', 'size'), sum_b=('helpful', 'sum')).reset_index()\n",
    "counts.columns = ['prompt type', 'question count','number of times chatbot answeredcorrectly']"
   ]
  },
  {
   "cell_type": "code",
   "execution_count": 102,
   "id": "f252e8ec",
   "metadata": {},
   "outputs": [],
   "source": [
    "unique_questions['correct'] = ['correct' if i == 1 else 'false' for i in unique_questions['helpful']]"
   ]
  },
  {
   "cell_type": "code",
   "execution_count": 112,
   "id": "f3c0e0f1",
   "metadata": {},
   "outputs": [],
   "source": [
    "unique_questions.sort_values('correct', inplace = True)"
   ]
  },
  {
   "cell_type": "code",
   "execution_count": 113,
   "id": "6cead46a",
   "metadata": {},
   "outputs": [
    {
     "data": {
      "text/html": [
       "\n",
       "        <iframe\n",
       "            width=\"100%\"\n",
       "            height=\"650\"\n",
       "            src=\"http://127.0.0.1:8050/\"\n",
       "            frameborder=\"0\"\n",
       "            allowfullscreen\n",
       "            \n",
       "        ></iframe>\n",
       "        "
      ],
      "text/plain": [
       "<IPython.lib.display.IFrame at 0x2392e3d9160>"
      ]
     },
     "metadata": {},
     "output_type": "display_data"
    }
   ],
   "source": [
    "import dash\n",
    "from dash import dcc, html\n",
    "from dash.dependencies import Input, Output\n",
    "import plotly.graph_objs as go\n",
    "import pandas as pd\n",
    "\n",
    "app = dash.Dash(__name__)\n",
    "\n",
    "# Assuming 'counts' is your DataFrame and it has a column 'c' for the new aggregate data\n",
    "# counts = pd.DataFrame(...)  # Your existing DataFrame\n",
    "\n",
    "counts_sorted = counts.sort_values(by='question count', ascending=False)\n",
    "counts_sorted['Category'] = ['Top 6 topics' if i < 6 else 'Other topics' for i in range(len(counts_sorted))]\n",
    "\n",
    "\n",
    "# First bar plot for 'count' column\n",
    "fig = go.Figure(go.Bar(\n",
    "    y=counts_sorted['prompt type'],\n",
    "    x=counts_sorted['question count'],\n",
    "    orientation='h',\n",
    "    marker=dict(color='blue'),\n",
    "    name='Count'\n",
    "))\n",
    "\n",
    "# Adding another set of bars for the 'c' column, overlaid\n",
    "fig.add_trace(go.Bar(\n",
    "    y=counts_sorted['prompt type'],\n",
    "    x=counts_sorted['number of times chatbot answeredcorrectly'],\n",
    "    orientation='h',\n",
    "    marker=dict(color='green'),  # Semi-transparent orange\n",
    "    name='Number of correct responses'\n",
    "))\n",
    "\n",
    "# Set the layout to overlay mode\n",
    "fig.update_layout(\n",
    "    barmode='overlay',\n",
    "    title='Common customer inquiry topics received by Mcombo GPT',\n",
    "    height=700,\n",
    "    yaxis=dict(autorange='reversed')\n",
    ")\n",
    "\n",
    "\n",
    "counts_sorted = counts.sort_values(by='question count', ascending=False)\n",
    "\n",
    "# Add a rectangular shape to highlight the top six bars\n",
    "if len(counts_sorted) >= 6:\n",
    "    fig.add_shape(\n",
    "        type=\"rect\",\n",
    "        x0=0,\n",
    "        y0=-0.5,  # Adjust as needed for precise positioning\n",
    "        x1=counts_sorted['question count'].max()+3,  # or a suitable maximum value for your x-axis\n",
    "        y1=5.5,  # Halfway between the 6th and 7th bar\n",
    "        fillcolor=\"lightgrey\",  # Choose a color that suits your plot's theme\n",
    "        opacity=0.8,  # Adjust opacity for visibility of bars\n",
    "        layer=\"below\",  # Ensure the shape is below the bars\n",
    "        line_width=0,\n",
    "    )\n",
    "    \n",
    "fig.update_xaxes(title_text='Number of Inquiries')\n",
    "fig.update_yaxes(title_text='Customer Inquiry')\n",
    "\n",
    "app.layout = html.Div([\n",
    "    dcc.Graph(\n",
    "        id='bar-plot',\n",
    "        figure=fig\n",
    "    ),\n",
    "    html.Div(id='text-output')\n",
    "])\n",
    "\n",
    "@app.callback(\n",
    "    Output('text-output', 'children'),\n",
    "    Input('bar-plot', 'clickData')\n",
    ")\n",
    "# def update_output(clickData):\n",
    "#     if clickData is None:\n",
    "#         return \"Click on a bar!\"\n",
    "#     else:\n",
    "#         value_clicked = clickData['points'][0]['y']\n",
    "#         filtered_df = unique_questions[unique_questions['prompt type'] == value_clicked]['prompt'].head(20)\n",
    "#         inquiries_list = [html.Li(item) for item in filtered_df]\n",
    "\n",
    "#         inquiries_list.insert(0, html.P(\"All Inquiries:\", style={'fontWeight': 'bold'}))\n",
    "#         return html.Ul(inquiries_list)\n",
    "\n",
    "def update_output(clickData):\n",
    "    if clickData is None:\n",
    "        return \"Click on a bar!\"\n",
    "    else:\n",
    "        # Get the value that was clicked\n",
    "        value_clicked = clickData['points'][0]['y']\n",
    "        \n",
    "        # Filter the DataFrame based on the clicked value\n",
    "        filtered_df = unique_questions[unique_questions['prompt type'] == value_clicked]\n",
    "\n",
    "        # Create a list of HTML elements for each row in the filtered DataFrame\n",
    "        inquiries_list = []\n",
    "#         for _, row in filtered_df.iterrows():\n",
    "#             item = html.Li([\n",
    "#                 html.P(f\"Conversation ID: {row['Conversation ID']}\"),\n",
    "#                 html.P(f\"Customer question: {row['prompt']}\"),\n",
    "#                 html.P(f\"Chatbot Response: {row['response']}\"),\n",
    "#                 html.P(f\"Answered correctly: {row['correct']}\"),\n",
    "#             ])\n",
    "#             inquiries_list.append(item)\n",
    "        for _, row in filtered_df.iterrows():\n",
    "            item = html.Li([\n",
    "                html.P([html.Span(\"Conversation ID: \", style={'fontWeight': 'bold'}), html.Span(str(row['Conversation ID']))]),\n",
    "                html.P([html.Span(\"Customer question: \", style={'fontWeight': 'bold'}), html.Span(str(row['prompt']))]),\n",
    "                html.P([html.Span(\"Chatbot Response: \", style={'fontWeight': 'bold'}), html.Span(str(row['response']))]),\n",
    "                html.P([html.Span(\"Answered correctly: \", style={'fontWeight': 'bold'}), html.Span(str(row['correct']))]),\n",
    "            ])\n",
    "            inquiries_list.append(item)\n",
    "        # If you want to limit the number of displayed inquiries, you can slice the inquiries_list here\n",
    "        # inquiries_list = inquiries_list[:20] \n",
    "\n",
    "        inquiries_list.insert(0, html.P(\"All Inquiries:\", style={'fontWeight': 'bold'}))\n",
    "        return html.Ul(inquiries_list)\n",
    "    \n",
    "# Run the app\n",
    "if __name__ == '__main__':\n",
    "    app.run_server(debug=True)"
   ]
  }
 ],
 "metadata": {
  "kernelspec": {
   "display_name": "Python 3 (ipykernel)",
   "language": "python",
   "name": "python3"
  },
  "language_info": {
   "codemirror_mode": {
    "name": "ipython",
    "version": 3
   },
   "file_extension": ".py",
   "mimetype": "text/x-python",
   "name": "python",
   "nbconvert_exporter": "python",
   "pygments_lexer": "ipython3",
   "version": "3.9.16"
  }
 },
 "nbformat": 4,
 "nbformat_minor": 5
}
