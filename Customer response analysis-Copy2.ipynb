{
 "cells": [
  {
   "cell_type": "code",
   "execution_count": 1,
   "id": "b14ae025",
   "metadata": {},
   "outputs": [],
   "source": [
    "import pandas as pd"
   ]
  },
  {
   "cell_type": "code",
   "execution_count": 2,
   "id": "9d4d1caf",
   "metadata": {},
   "outputs": [],
   "source": [
    "df = pd.read_csv('performance_data.csv', encoding='ISO-8859-1')"
   ]
  },
  {
   "cell_type": "code",
   "execution_count": 5,
   "id": "fdc8fa31",
   "metadata": {},
   "outputs": [
    {
     "ename": "KeyError",
     "evalue": "'Column not found: customer question'",
     "output_type": "error",
     "traceback": [
      "\u001b[1;31m---------------------------------------------------------------------------\u001b[0m",
      "\u001b[1;31mKeyError\u001b[0m                                  Traceback (most recent call last)",
      "Cell \u001b[1;32mIn[5], line 1\u001b[0m\n\u001b[1;32m----> 1\u001b[0m prompt_type \u001b[38;5;241m=\u001b[39m \u001b[43mdf\u001b[49m\u001b[38;5;241;43m.\u001b[39;49m\u001b[43mgroupby\u001b[49m\u001b[43m(\u001b[49m\u001b[38;5;124;43m'\u001b[39;49m\u001b[38;5;124;43mConversation ID\u001b[39;49m\u001b[38;5;124;43m'\u001b[39;49m\u001b[43m)\u001b[49m\u001b[43m[\u001b[49m\u001b[38;5;124;43m'\u001b[39;49m\u001b[38;5;124;43mcustomer question\u001b[39;49m\u001b[38;5;124;43m'\u001b[39;49m\u001b[43m]\u001b[49m\u001b[38;5;241m.\u001b[39munique()\n",
      "File \u001b[1;32m~\\anaconda3\\lib\\site-packages\\pandas\\core\\groupby\\generic.py:1771\u001b[0m, in \u001b[0;36mDataFrameGroupBy.__getitem__\u001b[1;34m(self, key)\u001b[0m\n\u001b[0;32m   1764\u001b[0m \u001b[38;5;28;01mif\u001b[39;00m \u001b[38;5;28misinstance\u001b[39m(key, \u001b[38;5;28mtuple\u001b[39m) \u001b[38;5;129;01mand\u001b[39;00m \u001b[38;5;28mlen\u001b[39m(key) \u001b[38;5;241m>\u001b[39m \u001b[38;5;241m1\u001b[39m:\n\u001b[0;32m   1765\u001b[0m     \u001b[38;5;66;03m# if len == 1, then it becomes a SeriesGroupBy and this is actually\u001b[39;00m\n\u001b[0;32m   1766\u001b[0m     \u001b[38;5;66;03m# valid syntax, so don't raise\u001b[39;00m\n\u001b[0;32m   1767\u001b[0m     \u001b[38;5;28;01mraise\u001b[39;00m \u001b[38;5;167;01mValueError\u001b[39;00m(\n\u001b[0;32m   1768\u001b[0m         \u001b[38;5;124m\"\u001b[39m\u001b[38;5;124mCannot subset columns with a tuple with more than one element. \u001b[39m\u001b[38;5;124m\"\u001b[39m\n\u001b[0;32m   1769\u001b[0m         \u001b[38;5;124m\"\u001b[39m\u001b[38;5;124mUse a list instead.\u001b[39m\u001b[38;5;124m\"\u001b[39m\n\u001b[0;32m   1770\u001b[0m     )\n\u001b[1;32m-> 1771\u001b[0m \u001b[38;5;28;01mreturn\u001b[39;00m \u001b[38;5;28;43msuper\u001b[39;49m\u001b[43m(\u001b[49m\u001b[43m)\u001b[49m\u001b[38;5;241;43m.\u001b[39;49m\u001b[38;5;21;43m__getitem__\u001b[39;49m\u001b[43m(\u001b[49m\u001b[43mkey\u001b[49m\u001b[43m)\u001b[49m\n",
      "File \u001b[1;32m~\\anaconda3\\lib\\site-packages\\pandas\\core\\base.py:244\u001b[0m, in \u001b[0;36mSelectionMixin.__getitem__\u001b[1;34m(self, key)\u001b[0m\n\u001b[0;32m    242\u001b[0m \u001b[38;5;28;01melse\u001b[39;00m:\n\u001b[0;32m    243\u001b[0m     \u001b[38;5;28;01mif\u001b[39;00m key \u001b[38;5;129;01mnot\u001b[39;00m \u001b[38;5;129;01min\u001b[39;00m \u001b[38;5;28mself\u001b[39m\u001b[38;5;241m.\u001b[39mobj:\n\u001b[1;32m--> 244\u001b[0m         \u001b[38;5;28;01mraise\u001b[39;00m \u001b[38;5;167;01mKeyError\u001b[39;00m(\u001b[38;5;124mf\u001b[39m\u001b[38;5;124m\"\u001b[39m\u001b[38;5;124mColumn not found: \u001b[39m\u001b[38;5;132;01m{\u001b[39;00mkey\u001b[38;5;132;01m}\u001b[39;00m\u001b[38;5;124m\"\u001b[39m)\n\u001b[0;32m    245\u001b[0m     ndim \u001b[38;5;241m=\u001b[39m \u001b[38;5;28mself\u001b[39m\u001b[38;5;241m.\u001b[39mobj[key]\u001b[38;5;241m.\u001b[39mndim\n\u001b[0;32m    246\u001b[0m     \u001b[38;5;28;01mreturn\u001b[39;00m \u001b[38;5;28mself\u001b[39m\u001b[38;5;241m.\u001b[39m_gotitem(key, ndim\u001b[38;5;241m=\u001b[39mndim)\n",
      "\u001b[1;31mKeyError\u001b[0m: 'Column not found: customer question'"
     ]
    }
   ],
   "source": [
    "prompt_type = df.groupby('Conversation ID')['customer question'].unique()"
   ]
  },
  {
   "cell_type": "code",
   "execution_count": 6,
   "id": "6a1304a3",
   "metadata": {},
   "outputs": [
    {
     "ename": "NameError",
     "evalue": "name 'prompt_type' is not defined",
     "output_type": "error",
     "traceback": [
      "\u001b[1;31m---------------------------------------------------------------------------\u001b[0m",
      "\u001b[1;31mNameError\u001b[0m                                 Traceback (most recent call last)",
      "Cell \u001b[1;32mIn[6], line 3\u001b[0m\n\u001b[0;32m      1\u001b[0m types \u001b[38;5;241m=\u001b[39m []\n\u001b[1;32m----> 3\u001b[0m \u001b[38;5;28;01mfor\u001b[39;00m i \u001b[38;5;129;01min\u001b[39;00m \u001b[43mprompt_type\u001b[49m:\n\u001b[0;32m      4\u001b[0m     types\u001b[38;5;241m.\u001b[39mappend(\u001b[38;5;28mlist\u001b[39m(i))\n\u001b[0;32m      6\u001b[0m nested_list \u001b[38;5;241m=\u001b[39m types\n",
      "\u001b[1;31mNameError\u001b[0m: name 'prompt_type' is not defined"
     ]
    }
   ],
   "source": [
    "types = []\n",
    "\n",
    "for i in prompt_type:\n",
    "    types.append(list(i))\n",
    "    \n",
    "nested_list = types"
   ]
  },
  {
   "cell_type": "code",
   "execution_count": 7,
   "id": "011dd267",
   "metadata": {},
   "outputs": [
    {
     "ename": "NameError",
     "evalue": "name 'nested_list' is not defined",
     "output_type": "error",
     "traceback": [
      "\u001b[1;31m---------------------------------------------------------------------------\u001b[0m",
      "\u001b[1;31mNameError\u001b[0m                                 Traceback (most recent call last)",
      "Cell \u001b[1;32mIn[7], line 1\u001b[0m\n\u001b[1;32m----> 1\u001b[0m flattened_list \u001b[38;5;241m=\u001b[39m [item \u001b[38;5;28;01mfor\u001b[39;00m sublist \u001b[38;5;129;01min\u001b[39;00m \u001b[43mnested_list\u001b[49m \u001b[38;5;28;01mfor\u001b[39;00m item \u001b[38;5;129;01min\u001b[39;00m sublist \u001b[38;5;28;01mif\u001b[39;00m item \u001b[38;5;129;01mis\u001b[39;00m \u001b[38;5;129;01mnot\u001b[39;00m \u001b[38;5;28;01mNone\u001b[39;00m]\n",
      "\u001b[1;31mNameError\u001b[0m: name 'nested_list' is not defined"
     ]
    }
   ],
   "source": [
    "flattened_list = [item for sublist in nested_list for item in sublist if item is not None]"
   ]
  },
  {
   "cell_type": "code",
   "execution_count": 8,
   "id": "781ed97b",
   "metadata": {},
   "outputs": [
    {
     "ename": "KeyError",
     "evalue": "Index(['prompt type'], dtype='object')",
     "output_type": "error",
     "traceback": [
      "\u001b[1;31m---------------------------------------------------------------------------\u001b[0m",
      "\u001b[1;31mKeyError\u001b[0m                                  Traceback (most recent call last)",
      "Cell \u001b[1;32mIn[8], line 1\u001b[0m\n\u001b[1;32m----> 1\u001b[0m unique_questions\u001b[38;5;241m=\u001b[39m \u001b[43mdf\u001b[49m\u001b[38;5;241;43m.\u001b[39;49m\u001b[43mdrop_duplicates\u001b[49m\u001b[43m(\u001b[49m\u001b[43msubset\u001b[49m\u001b[38;5;241;43m=\u001b[39;49m\u001b[43m[\u001b[49m\u001b[38;5;124;43m'\u001b[39;49m\u001b[38;5;124;43mConversation ID\u001b[39;49m\u001b[38;5;124;43m'\u001b[39;49m\u001b[43m,\u001b[49m\u001b[43m \u001b[49m\u001b[38;5;124;43m'\u001b[39;49m\u001b[38;5;124;43mprompt type\u001b[39;49m\u001b[38;5;124;43m'\u001b[39;49m\u001b[43m]\u001b[49m\u001b[43m)\u001b[49m\n",
      "File \u001b[1;32m~\\anaconda3\\lib\\site-packages\\pandas\\core\\frame.py:6532\u001b[0m, in \u001b[0;36mDataFrame.drop_duplicates\u001b[1;34m(self, subset, keep, inplace, ignore_index)\u001b[0m\n\u001b[0;32m   6529\u001b[0m inplace \u001b[38;5;241m=\u001b[39m validate_bool_kwarg(inplace, \u001b[38;5;124m\"\u001b[39m\u001b[38;5;124minplace\u001b[39m\u001b[38;5;124m\"\u001b[39m)\n\u001b[0;32m   6530\u001b[0m ignore_index \u001b[38;5;241m=\u001b[39m validate_bool_kwarg(ignore_index, \u001b[38;5;124m\"\u001b[39m\u001b[38;5;124mignore_index\u001b[39m\u001b[38;5;124m\"\u001b[39m)\n\u001b[1;32m-> 6532\u001b[0m result \u001b[38;5;241m=\u001b[39m \u001b[38;5;28mself\u001b[39m[\u001b[38;5;241m-\u001b[39m\u001b[38;5;28;43mself\u001b[39;49m\u001b[38;5;241;43m.\u001b[39;49m\u001b[43mduplicated\u001b[49m\u001b[43m(\u001b[49m\u001b[43msubset\u001b[49m\u001b[43m,\u001b[49m\u001b[43m \u001b[49m\u001b[43mkeep\u001b[49m\u001b[38;5;241;43m=\u001b[39;49m\u001b[43mkeep\u001b[49m\u001b[43m)\u001b[49m]\n\u001b[0;32m   6533\u001b[0m \u001b[38;5;28;01mif\u001b[39;00m ignore_index:\n\u001b[0;32m   6534\u001b[0m     result\u001b[38;5;241m.\u001b[39mindex \u001b[38;5;241m=\u001b[39m default_index(\u001b[38;5;28mlen\u001b[39m(result))\n",
      "File \u001b[1;32m~\\anaconda3\\lib\\site-packages\\pandas\\core\\frame.py:6664\u001b[0m, in \u001b[0;36mDataFrame.duplicated\u001b[1;34m(self, subset, keep)\u001b[0m\n\u001b[0;32m   6662\u001b[0m diff \u001b[38;5;241m=\u001b[39m \u001b[38;5;28mset\u001b[39m(subset) \u001b[38;5;241m-\u001b[39m \u001b[38;5;28mset\u001b[39m(\u001b[38;5;28mself\u001b[39m\u001b[38;5;241m.\u001b[39mcolumns)\n\u001b[0;32m   6663\u001b[0m \u001b[38;5;28;01mif\u001b[39;00m diff:\n\u001b[1;32m-> 6664\u001b[0m     \u001b[38;5;28;01mraise\u001b[39;00m \u001b[38;5;167;01mKeyError\u001b[39;00m(Index(diff))\n\u001b[0;32m   6666\u001b[0m \u001b[38;5;28;01mif\u001b[39;00m \u001b[38;5;28mlen\u001b[39m(subset) \u001b[38;5;241m==\u001b[39m \u001b[38;5;241m1\u001b[39m \u001b[38;5;129;01mand\u001b[39;00m \u001b[38;5;28mself\u001b[39m\u001b[38;5;241m.\u001b[39mcolumns\u001b[38;5;241m.\u001b[39mis_unique:\n\u001b[0;32m   6667\u001b[0m     \u001b[38;5;66;03m# GH#45236 This is faster than get_group_index below\u001b[39;00m\n\u001b[0;32m   6668\u001b[0m     result \u001b[38;5;241m=\u001b[39m \u001b[38;5;28mself\u001b[39m[subset[\u001b[38;5;241m0\u001b[39m]]\u001b[38;5;241m.\u001b[39mduplicated(keep)\n",
      "\u001b[1;31mKeyError\u001b[0m: Index(['prompt type'], dtype='object')"
     ]
    }
   ],
   "source": [
    "unique_questions= df.drop_duplicates(subset=['Conversation ID', 'prompt type'])"
   ]
  },
  {
   "cell_type": "code",
   "execution_count": 9,
   "id": "764b61ab",
   "metadata": {},
   "outputs": [],
   "source": [
    "unique_questions = pd.read_csv('unique_questions.csv')"
   ]
  },
  {
   "cell_type": "code",
   "execution_count": 10,
   "id": "fcebeba3",
   "metadata": {},
   "outputs": [
    {
     "name": "stderr",
     "output_type": "stream",
     "text": [
      "C:\\Users\\jiadiz\\AppData\\Local\\Temp\\ipykernel_120000\\1070007909.py:2: UserWarning: \n",
      "The dash_core_components package is deprecated. Please replace\n",
      "`import dash_core_components as dcc` with `from dash import dcc`\n",
      "  import dash_core_components as dcc\n",
      "C:\\Users\\jiadiz\\AppData\\Local\\Temp\\ipykernel_120000\\1070007909.py:3: UserWarning: \n",
      "The dash_html_components package is deprecated. Please replace\n",
      "`import dash_html_components as html` with `from dash import html`\n",
      "  import dash_html_components as html\n"
     ]
    }
   ],
   "source": [
    "import dash\n",
    "import dash_core_components as dcc\n",
    "import dash_html_components as html\n",
    "from dash.dependencies import Input, Output\n",
    "import plotly.express as px\n",
    "\n",
    "\n",
    "counts = unique_questions.groupby('prompt type').agg(count=('prompt type', 'size'), sum_b=('helpful', 'sum')).reset_index()\n",
    "counts.columns = ['prompt type', 'question count','number of times chatbot answeredcorrectly']"
   ]
  },
  {
   "cell_type": "code",
   "execution_count": 11,
   "id": "f252e8ec",
   "metadata": {},
   "outputs": [],
   "source": [
    "unique_questions['correct'] = ['correct' if i == 1 else 'false' for i in unique_questions['helpful']]"
   ]
  },
  {
   "cell_type": "code",
   "execution_count": 12,
   "id": "f3c0e0f1",
   "metadata": {},
   "outputs": [],
   "source": [
    "unique_questions.sort_values('correct', inplace = True)"
   ]
  },
  {
   "cell_type": "code",
   "execution_count": 15,
   "id": "6cead46a",
   "metadata": {},
   "outputs": [
    {
     "data": {
      "text/html": [
       "\n",
       "        <iframe\n",
       "            width=\"100%\"\n",
       "            height=\"650\"\n",
       "            src=\"http://localhost:8005/\"\n",
       "            frameborder=\"0\"\n",
       "            allowfullscreen\n",
       "            \n",
       "        ></iframe>\n",
       "        "
      ],
      "text/plain": [
       "<IPython.lib.display.IFrame at 0x2ac62044be0>"
      ]
     },
     "metadata": {},
     "output_type": "display_data"
    }
   ],
   "source": [
    "import dash\n",
    "from dash import dcc, html\n",
    "from dash.dependencies import Input, Output\n",
    "import plotly.graph_objs as go\n",
    "import pandas as pd\n",
    "\n",
    "app = dash.Dash(__name__)\n",
    "\n",
    "# Assuming 'counts' is your DataFrame and it has a column 'c' for the new aggregate data\n",
    "# counts = pd.DataFrame(...)  # Your existing DataFrame\n",
    "\n",
    "counts_sorted = counts.sort_values(by='question count', ascending=False)\n",
    "counts_sorted['Category'] = ['Top 6 topics' if i < 6 else 'Other topics' for i in range(len(counts_sorted))]\n",
    "\n",
    "\n",
    "# First bar plot for 'count' column\n",
    "fig = go.Figure(go.Bar(\n",
    "    y=counts_sorted['prompt type'],\n",
    "    x=counts_sorted['question count'],\n",
    "    orientation='h',\n",
    "    marker=dict(color='blue'),\n",
    "    name='Count'\n",
    "))\n",
    "\n",
    "# Adding another set of bars for the 'c' column, overlaid\n",
    "fig.add_trace(go.Bar(\n",
    "    y=counts_sorted['prompt type'],\n",
    "    x=counts_sorted['number of times chatbot answeredcorrectly'],\n",
    "    orientation='h',\n",
    "    marker=dict(color='green'),  # Semi-transparent orange\n",
    "    name='Number of correct responses'\n",
    "))\n",
    "\n",
    "# Set the layout to overlay mode\n",
    "fig.update_layout(\n",
    "    barmode='overlay',\n",
    "    title='Common customer inquiry topics received by Mcombo GPT',\n",
    "    height=700,\n",
    "    yaxis=dict(autorange='reversed')\n",
    ")\n",
    "\n",
    "\n",
    "counts_sorted = counts.sort_values(by='question count', ascending=False)\n",
    "\n",
    "# Add a rectangular shape to highlight the top six bars\n",
    "if len(counts_sorted) >= 6:\n",
    "    fig.add_shape(\n",
    "        type=\"rect\",\n",
    "        x0=0,\n",
    "        y0=-0.5,  # Adjust as needed for precise positioning\n",
    "        x1=counts_sorted['question count'].max()+3,  # or a suitable maximum value for your x-axis\n",
    "        y1=5.5,  # Halfway between the 6th and 7th bar\n",
    "        fillcolor=\"lightgrey\",  # Choose a color that suits your plot's theme\n",
    "        opacity=0.8,  # Adjust opacity for visibility of bars\n",
    "        layer=\"below\",  # Ensure the shape is below the bars\n",
    "        line_width=0,\n",
    "    )\n",
    "    \n",
    "fig.update_xaxes(title_text='Number of Inquiries')\n",
    "fig.update_yaxes(title_text='Customer Inquiry')\n",
    "\n",
    "app.layout = html.Div([\n",
    "    dcc.Graph(\n",
    "        id='bar-plot',\n",
    "        figure=fig\n",
    "    ),\n",
    "    html.Div(id='text-output')\n",
    "])\n",
    "\n",
    "@app.callback(\n",
    "    Output('text-output', 'children'),\n",
    "    Input('bar-plot', 'clickData')\n",
    ")\n",
    "# def update_output(clickData):\n",
    "#     if clickData is None:\n",
    "#         return \"Click on a bar!\"\n",
    "#     else:\n",
    "#         value_clicked = clickData['points'][0]['y']\n",
    "#         filtered_df = unique_questions[unique_questions['prompt type'] == value_clicked]['prompt'].head(20)\n",
    "#         inquiries_list = [html.Li(item) for item in filtered_df]\n",
    "\n",
    "#         inquiries_list.insert(0, html.P(\"All Inquiries:\", style={'fontWeight': 'bold'}))\n",
    "#         return html.Ul(inquiries_list)\n",
    "\n",
    "def update_output(clickData):\n",
    "    if clickData is None:\n",
    "        return \"Click on a bar!\"\n",
    "    else:\n",
    "        # Get the value that was clicked\n",
    "        value_clicked = clickData['points'][0]['y']\n",
    "        \n",
    "        # Filter the DataFrame based on the clicked value\n",
    "        filtered_df = unique_questions[unique_questions['prompt type'] == value_clicked]\n",
    "\n",
    "        # Create a list of HTML elements for each row in the filtered DataFrame\n",
    "        inquiries_list = []\n",
    "#         for _, row in filtered_df.iterrows():\n",
    "#             item = html.Li([\n",
    "#                 html.P(f\"Conversation ID: {row['Conversation ID']}\"),\n",
    "#                 html.P(f\"Customer question: {row['prompt']}\"),\n",
    "#                 html.P(f\"Chatbot Response: {row['response']}\"),\n",
    "#                 html.P(f\"Answered correctly: {row['correct']}\"),\n",
    "#             ])\n",
    "#             inquiries_list.append(item)\n",
    "        for _, row in filtered_df.iterrows():\n",
    "            item = html.Li([\n",
    "                html.P([html.Span(\"Conversation ID: \", style={'fontWeight': 'bold'}), html.Span(str(row['Conversation ID']))]),\n",
    "                html.P([html.Span(\"Customer question: \", style={'fontWeight': 'bold'}), html.Span(str(row['prompt']))]),\n",
    "                html.P([html.Span(\"Chatbot Response: \", style={'fontWeight': 'bold'}), html.Span(str(row['response']))]),\n",
    "                html.P([html.Span(\"Answered correctly: \", style={'fontWeight': 'bold'}), html.Span(str(row['correct']))]),\n",
    "            ])\n",
    "            inquiries_list.append(item)\n",
    "        # If you want to limit the number of displayed inquiries, you can slice the inquiries_list here\n",
    "        # inquiries_list = inquiries_list[:20] \n",
    "\n",
    "        inquiries_list.insert(0, html.P(\"All Inquiries:\", style={'fontWeight': 'bold'}))\n",
    "        return html.Ul(inquiries_list)\n",
    "    \n",
    "# Run the app\n",
    "if __name__ == '__main__':\n",
    "    app.run_server(host='localhost',port=8005,debug=False)"
   ]
  },
  {
   "cell_type": "code",
   "execution_count": null,
   "id": "ffca42ac",
   "metadata": {},
   "outputs": [],
   "source": []
  },
  {
   "cell_type": "code",
   "execution_count": null,
   "id": "70c10e24",
   "metadata": {},
   "outputs": [],
   "source": []
  }
 ],
 "metadata": {
  "kernelspec": {
   "display_name": "Python 3 (ipykernel)",
   "language": "python",
   "name": "python3"
  },
  "language_info": {
   "codemirror_mode": {
    "name": "ipython",
    "version": 3
   },
   "file_extension": ".py",
   "mimetype": "text/x-python",
   "name": "python",
   "nbconvert_exporter": "python",
   "pygments_lexer": "ipython3",
   "version": "3.9.16"
  }
 },
 "nbformat": 4,
 "nbformat_minor": 5
}
